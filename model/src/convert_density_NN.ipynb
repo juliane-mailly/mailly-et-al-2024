{
 "cells": [
  {
   "cell_type": "markdown",
   "metadata": {},
   "source": [
    "# File used to map the density and number of flowers in a patch to the distance between neareast-neighbouring flowers"
   ]
  },
  {
   "cell_type": "markdown",
   "metadata": {},
   "source": [
    "### Step 1: Import all packages and define the current working directory"
   ]
  },
  {
   "cell_type": "code",
   "execution_count": 1,
   "metadata": {},
   "outputs": [],
   "source": [
    "import numpy as np\n",
    "from sklearn.metrics.pairwise import euclidean_distances\n",
    "import pandas as pd\n",
    "\n",
    "import os\n",
    "current_working_directory = os.getcwd()\n",
    "arrays_dir = current_working_directory + '\\\\Arrays'"
   ]
  },
  {
   "cell_type": "markdown",
   "metadata": {},
   "source": [
    "### Step 2: Define the functions for environment generation"
   ]
  },
  {
   "cell_type": "code",
   "execution_count": 2,
   "metadata": {},
   "outputs": [],
   "source": [
    "def convert_polar_to_cartesian (polar_vector) : \n",
    "\tcartesian_vector = [polar_vector[0] * np.cos(polar_vector[1]) , polar_vector[0] * np.sin(polar_vector[1])]\n",
    "\treturn(cartesian_vector)\n",
    "\n",
    "def distance(point1,point2) : \n",
    "\treturn(np.sqrt((point1[0] - point2[0])**2 + (point1[1] - point2[1])**2))\n",
    "\n",
    "\n",
    "def generate_cartesian_coordinates_for_flower(min_distance,max_distance) :  # can be used for patch centers\n",
    "\n",
    "  distance = np.random.uniform(low=min_distance,high=max_distance)\n",
    "  azimuth = np.random.uniform(low=0,high=2*np.pi)\n",
    "  return(convert_polar_to_cartesian((distance,azimuth)))\n",
    "\n",
    "\n",
    "def check_if_patch_is_sufficiently_far(coordinates_of_current_patch, minimal_distance_between_patches ,coordinates_of_other_patches) : # can be used for path centers\n",
    "\n",
    "  number_of_patches_to_check, _ = np.shape(coordinates_of_other_patches)\n",
    "  distances_with_other_patches = [distance(coordinates_of_current_patch,coordinates_of_other_patches[flower]) for flower in range(number_of_patches_to_check)]\n",
    "\n",
    "  return (np.min(distances_with_other_patches)>=minimal_distance_between_patches)"
   ]
  },
  {
   "cell_type": "code",
   "execution_count": 3,
   "metadata": {},
   "outputs": [],
   "source": [
    "def generate_array_procedurally(number_of_flowers,number_of_patches,density_of_patches,foraging_range=1000,perception_range=5) : \n",
    "\n",
    "  if density_of_patches < 0 : \n",
    "    raise ValueError(\"Unsupported density of patches. Values must be positive.\")\n",
    "  if number_of_patches > number_of_flowers : \n",
    "    raise ValueError(\"You must have at least one flower per patch.\")\n",
    "  if number_of_flowers == 0 or number_of_patches == 0 :\n",
    "    raise ValueError(\"You must at least have one flower and one patch.\")\n",
    "  if (4*perception_range >= foraging_range) :\n",
    "    raise ValueError(\"The environment size must be at least superior to 4 times the perception range.\")\n",
    "\n",
    "  MARGIN_OF_ENVIRONMENT = 10\n",
    "  MINIMAL_DISTANCE_PATCH_PATCH = 2*perception_range\n",
    "  MAX_TRIALS_TO_PLACE_CENTER = 200\n",
    "  INCREASE_ENVIRONMENT_SIZE = foraging_range/20\n",
    "\n",
    "\n",
    "  # Special case if density_of_patches == 0: uniform environment. We create as much patches as there are flowers in the environment\n",
    "  if density_of_patches == 0:\n",
    "    number_of_patches = number_of_flowers\n",
    "\n",
    "  # Draw the coordinates of the centers of the patches and check if they respect the minimal distance between patches (the nest is considered as a patch center here)   \n",
    "\n",
    "  patch_centers_coordinates = [np.array([0,0])]\n",
    "\n",
    "  while(len(patch_centers_coordinates)!=number_of_patches+1) :\n",
    "    coordinates_of_current_patch = np.random.uniform(low = -foraging_range+MARGIN_OF_ENVIRONMENT, high = foraging_range-MARGIN_OF_ENVIRONMENT, size=2)   \n",
    "    patch_center_far_enough = check_if_patch_is_sufficiently_far(coordinates_of_current_patch, MINIMAL_DISTANCE_PATCH_PATCH, patch_centers_coordinates) \n",
    "    trial = 0\n",
    "\n",
    "    while (not patch_center_far_enough) and trial<MAX_TRIALS_TO_PLACE_CENTER : \n",
    "      coordinates_of_current_patch = np.random.uniform(low = -foraging_range+MARGIN_OF_ENVIRONMENT, high = foraging_range-MARGIN_OF_ENVIRONMENT, size=2)   \n",
    "      patch_center_far_enough = check_if_patch_is_sufficiently_far(coordinates_of_current_patch, MINIMAL_DISTANCE_PATCH_PATCH, patch_centers_coordinates)\n",
    "      trial += 1\n",
    "\n",
    "    if patch_center_far_enough : \n",
    "      patch_centers_coordinates.append(coordinates_of_current_patch)\n",
    "\n",
    "    else : \n",
    "      foraging_range += INCREASE_ENVIRONMENT_SIZE\n",
    "\n",
    "  # If density_of_patches == 0: the patch centers will be the flowers\n",
    "  if density_of_patches == 0:\n",
    "    patch_centers_coordinates = np.array(patch_centers_coordinates)\n",
    "  else : \n",
    "\n",
    "    # For each flower, decide the patch to which it will belong (patch 0 is the nest so there will be no flower assigned to it)\n",
    "    flowers_ID_coordinates_patch = [np.array([0,0,0,0])] # Contains the future output (flower ID, x coordinate, y coordinate, patch ID). The nest is considered a flower (in patch 0)\n",
    "    flowers_belonging_to_patch = np.random.randint(low = 1, high = (number_of_patches+1), size = number_of_flowers)\n",
    "    number_of_flower_per_patch = np.bincount(flowers_belonging_to_patch,minlength=number_of_patches+1)\n",
    "\n",
    "    flower_ID = 1\n",
    "\n",
    "    for patch in range (number_of_patches+1) :\n",
    "      \n",
    "      radius_of_patch = np.sqrt(number_of_flower_per_patch[patch]/(density_of_patches*np.pi))\n",
    "\n",
    "      for flower in range(number_of_flower_per_patch[patch]) : \n",
    "\n",
    "        x,y = generate_cartesian_coordinates_for_flower(0,radius_of_patch)\n",
    "        coordinates_of_flower = patch_centers_coordinates[patch]+np.array([x,y])\n",
    "        flowers_ID_coordinates_patch.append(np.concatenate(([flower_ID],coordinates_of_flower,[patch])))\n",
    "        flower_ID += 1\n",
    "\n",
    "\n",
    "  return(np.array(flowers_ID_coordinates_patch)[:,1:3])"
   ]
  },
  {
   "cell_type": "markdown",
   "metadata": {},
   "source": [
    "### Step 3: Compute the mean nearest-neighbour distance in a given array"
   ]
  },
  {
   "cell_type": "code",
   "execution_count": 4,
   "metadata": {},
   "outputs": [],
   "source": [
    "def get_matrix_of_distances_between_flowers(matrix_of_coordinates) : \n",
    "\tmatrix_of_pairwise_distances = euclidean_distances (matrix_of_coordinates,matrix_of_coordinates)\n",
    "\treturn(matrix_of_pairwise_distances)\n",
    "\n",
    "def mean_nn_dist(number_of_flowers,number_of_patches,density_of_patches, nrep):\n",
    "    l=[]\n",
    "    for rep in range (nrep):\n",
    "        mat_coord = generate_array_procedurally(number_of_flowers,number_of_patches,density_of_patches)\n",
    "        mat_dist = get_matrix_of_distances_between_flowers(mat_coord)\n",
    "        for i in range (1,len(mat_dist)) : #exclude distance from nest\n",
    "            l.append(np.min(mat_dist[i, mat_dist[i]>0]))\n",
    "    return(np.mean(l))"
   ]
  },
  {
   "cell_type": "markdown",
   "metadata": {},
   "source": [
    "### Step 4: Generate the equivalence dataframes"
   ]
  },
  {
   "cell_type": "code",
   "execution_count": 6,
   "metadata": {},
   "outputs": [],
   "source": [
    "fl = []\n",
    "pat = []\n",
    "dens = []\n",
    "nn_dist = []\n",
    "\n",
    "\n",
    "for number_of_flowers in [25] : \n",
    "    for number_of_patches in [5] :\n",
    "        for density_of_patches in [0.1,0.01,0.001,0.0001,0.00001,0.000001, 0.0000001] : \n",
    "            fl.append(number_of_flowers)\n",
    "            pat.append(number_of_patches)\n",
    "            dens.append(density_of_patches)\n",
    "            nn_dist.append(mean_nn_dist(number_of_flowers,number_of_patches,density_of_patches,10000))\n",
    "\n",
    "res = pd.DataFrame({\"number_of_flowers\":fl,\"number_of_patches\":pat,\"density_of_patches\":dens, \"average NN distance\":nn_dist})  \n",
    "res.to_csv(arrays_dir+\"\\\\equivalence_NN_5patches.csv\") "
   ]
  },
  {
   "cell_type": "code",
   "execution_count": 9,
   "metadata": {},
   "outputs": [],
   "source": [
    "fl = []\n",
    "pat = []\n",
    "dens = []\n",
    "nn_dist = []\n",
    "\n",
    "\n",
    "for number_of_flowers in [5,10,20,25,40] : \n",
    "    for number_of_patches in [1] :\n",
    "        for density_of_patches in [0.1,0.01,0.001,0.0001,0.00001, 0.000001]  : \n",
    "            fl.append(number_of_flowers)\n",
    "            pat.append(number_of_patches)\n",
    "            dens.append(density_of_patches)\n",
    "            nn_dist.append(mean_nn_dist(number_of_flowers,number_of_patches,density_of_patches,10000))\n",
    "\n",
    "res = pd.DataFrame({\"number_of_flowers\":fl,\"number_of_patches\":pat,\"density_of_patches\":dens, \"average NN distance\":nn_dist}) \n",
    "res.to_csv(arrays_dir+\"\\\\equivalence_NN_1patch.csv\")"
   ]
  }
 ],
 "metadata": {
  "kernelspec": {
   "display_name": "base",
   "language": "python",
   "name": "python3"
  },
  "language_info": {
   "codemirror_mode": {
    "name": "ipython",
    "version": 3
   },
   "file_extension": ".py",
   "mimetype": "text/x-python",
   "name": "python",
   "nbconvert_exporter": "python",
   "pygments_lexer": "ipython3",
   "version": "3.8.5"
  }
 },
 "nbformat": 4,
 "nbformat_minor": 2
}
